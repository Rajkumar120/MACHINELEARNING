{
  "nbformat": 4,
  "nbformat_minor": 0,
  "metadata": {
    "colab": {
      "provenance": [],
      "authorship_tag": "ABX9TyORWUtRSTaKmfgJqIvvT24i",
      "include_colab_link": true
    },
    "kernelspec": {
      "name": "python3",
      "display_name": "Python 3"
    },
    "language_info": {
      "name": "python"
    }
  },
  "cells": [
    {
      "cell_type": "markdown",
      "metadata": {
        "id": "view-in-github",
        "colab_type": "text"
      },
      "source": [
        "<a href=\"https://colab.research.google.com/github/Rajkumar120/MACHINELEARNING/blob/main/linear.ipynb\" target=\"_parent\"><img src=\"https://colab.research.google.com/assets/colab-badge.svg\" alt=\"Open In Colab\"/></a>"
      ]
    },
    {
      "cell_type": "code",
      "execution_count": null,
      "metadata": {
        "colab": {
          "base_uri": "https://localhost:8080/",
          "height": 386
        },
        "id": "q1qchRglgS-F",
        "outputId": "110110a0-4803-475b-f519-a3c93c7f9beb"
      },
      "outputs": [
        {
          "output_type": "stream",
          "name": "stdout",
          "text": [
            "the coefficient in normal method: -758504.2231631182\n",
            "the intercept in normal method: 180476521.27692762\n",
            "the coefficient is: [-758504.22316312]\n",
            "the intercept is: 180476521.27692753\n",
            "the mean square error in linear regression is: 1296135.2128971922\n"
          ]
        },
        {
          "output_type": "display_data",
          "data": {
            "text/plain": [
              "<Figure size 432x288 with 1 Axes>"
            ],
            "image/png": "[encoded data removed]"
          },
          "metadata": {
            "needs_background": "light"
          }
        }
      ],
      "source": [
        "import pandas as pd\n",
        "import numpy as np\n",
        "from matplotlib import pyplot as plt\n",
        "from sklearn import linear_model\n",
        "df=pd.read_csv(\"AAPL[1].csv\")\n",
        "x=df['Open'].values\n",
        "y=df['Volume'].values\n",
        "meanx=np.mean(x)\n",
        "meany=np.mean(y)\n",
        "nr=0\n",
        "dr=0\n",
        "n=len(x)\n",
        "for i in range(n):\n",
        "  nr+=(x[i]-meanx)*(y[i]-meany)\n",
        "  dr+=(x[i]-meanx)**2\n",
        "m=nr/dr\n",
        "c=meany-(m*meanx)\n",
        "print(\"the coefficient in normal method:\",m)\n",
        "print(\"the intercept in normal method:\",c)\n",
        "mse=0\n",
        "for i in range(n):\n",
        "  ypred=(m*x[i])+c\n",
        "  mse+=(y[i]-ypred)**2\n",
        "mse=np.sqrt(mse)\n",
        "mse=mse/n\n",
        "%matplotlib inline\n",
        "plt.xlabel(\"OPEN VALUE OF STOCK\",fontsize=20)\n",
        "plt.ylabel(\"NUMBER OF TRADES\",fontsize=20)\n",
        "reg=linear_model.LinearRegression()\n",
        "reg.fit(df[['Open']],df.Volume)\n",
        "reg.coef_\n",
        "print(\"the coefficient is:\",reg.coef_)\n",
        "reg.intercept_\n",
        "print(\"the intercept is:\",reg.intercept_)\n",
        "print(\"the mean square error in linear regression is:\",mse)\n",
        "plt.scatter(df.Open,df.Volume,color='blue',marker='s',ls='dotted')\n",
        "plt.plot(df.Open,reg.predict(df[['Open']]),color='red')\n",
        "plt.grid(axis=\"both\",ls=\"dashed\",lw=1,c='g')\n",
        "#LASSO REGRESSION CODE\n",
        "from pandas.core.computation.parsing import clean_column_name\n",
        "import pandas as pd\n",
        "import numpy as np\n",
        "from matplotlib import pyplot as plt\n",
        "from mlxtend.plotting import scatterplotmatrix\n",
        "from sklearn.model_selection import train_test_split\n",
        "from sklearn.linear_model import Lasso\n",
        "from sklearn.metrics import mean_squared_error\n",
        "#from mlxtend.plotting import heatmap\n",
        "df=pd.read_csv(\"AAPL.csv\")\n",
        "df.isnull().sum().sum()\n",
        "cols=['Open','High','Low','Volume']\n",
        "scatterplotmatrix(df[cols].values,figsize=(10,8),names=cols,alpha=0.6)\n",
        "plt.tight_layout()\n",
        "plt.show()\n",
        "#cm=np.corrcoef(df[cols].values.T)\n",
        "#hm=heatmap(cm,row_names=cols,column_name=cols)\n",
        "#plt.show()\n",
        "X=df.iloc[0:3000,0:1]\n",
        "y=df.iloc[0:3000,0:4]\n",
        "X_train,X_test,y_train,y_test=train_test_split(X,y,random_state=0)\n",
        "lasso=Lasso(alpha=1.0)\n",
        "lasso.fit(X_train,y_train)\n",
        "y_pred=lasso.predict(X_test)\n",
        "print(y_pred)\n",
        "print(\"the slope is %.3f\"% lasso.coef_[0])\n",
        "mean_squared_error(y_test,y_pred)\n",
        "print(\"mean square error in lasso is:\",np.sqrt(mean_squared_error(y_test,y_pred)))\n",
        "\n",
        "\n",
        "#RIDGE REGRSSION CODE\n",
        "from pandas.core.computation.parsing import clean_column_name\n",
        "import pandas as pd\n",
        "import numpy as np\n",
        "import seaborn as sns\n",
        "from matplotlib import pyplot as plt\n",
        "from mlxtend.plotting import scatterplotmatrix\n",
        "from sklearn.model_selection import train_test_split\n",
        "from sklearn.linear_model import Ridge\n",
        "from sklearn.metrics import mean_squared_error\n",
        "from sklearn.metrics import confusion_matrix\n",
        "df=pd.read_csv(\"AAPL.csv\")\n",
        "df.isnull().sum().sum()\n",
        "cols=['Low','Open','High','Volume']\n",
        "scatterplotmatrix(df[cols].values,figsize=(10,8),names=cols,alpha=0.5)\n",
        "plt.tight_layout()\n",
        "plt.show()\n",
        "plt.hist(df['Volume'])\n",
        "plt.show()\n",
        "X=df.iloc[0:3000,0:1]\n",
        "y=df.iloc[0:3000,0:4]\n",
        "X_train,X_test,y_train,y_test=train_test_split(X,y,random_state=10)\n",
        "ridge=Ridge(alpha=1.0)\n",
        "ridge.fit(X_train,y_train)\n",
        "y_pred=ridge.predict(X_test)\n",
        "print(y_pred)\n",
        "print(\"the slope is: %.2f\" % ridge.coef_[0])\n",
        "mean_squared_error(y_test,y_pred)\n",
        "print(\"mean square error in ridge is:\",np.sqrt(mean_squared_error(y_test,y_pred)))\n",
        "cm=confusion_matrix(y_test,y_pred)\n",
        "print(\"confusion matrix:\",cm)\n",
        "sns.heatmap(cm,annot=True)\n",
        "plt.show()\n"
      ]
    }
  ]
}